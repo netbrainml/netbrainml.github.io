{
 "cells": [
  {
   "cell_type": "code",
   "execution_count": 1,
   "metadata": {
    "_cell_guid": "b1076dfc-b9ad-4769-8c92-a6c4dae69d19",
    "_uuid": "8f2839f25d086af736a60e9eeb907d3b93b6e0e5"
   },
   "outputs": [
    {
     "name": "stdout",
     "output_type": "stream",
     "text": [
      "Collecting git+https://github.com/netbrainml/nbml.git\r\n",
      "  Cloning https://github.com/netbrainml/nbml.git to /tmp/pip-req-build-0oxx8oz4\r\n",
      "  Running command git clone -q https://github.com/netbrainml/nbml.git /tmp/pip-req-build-0oxx8oz4\r\n",
      "Building wheels for collected packages: nbml\r\n",
      "  Building wheel for nbml (setup.py) ... \u001b[?25l-\b \b\\\b \bdone\r\n",
      "\u001b[?25h  Created wheel for nbml: filename=nbml-0.0.1-cp36-none-any.whl size=13124 sha256=28283b880ab99d377d6a6ce9263c2079f1826ad7ef243908c528a5adef2dbf1b\r\n",
      "  Stored in directory: /tmp/pip-ephem-wheel-cache-_syu8els/wheels/3a/b1/27/4431be29eb1fbe8f0912364e44fecc078167c19415ed958b11\r\n",
      "Successfully built nbml\r\n",
      "Installing collected packages: nbml\r\n",
      "Successfully installed nbml-0.0.1\r\n"
     ]
    },
    {
     "name": "stderr",
     "output_type": "stream",
     "text": [
      "Using TensorFlow backend.\n",
      "/opt/conda/lib/python3.6/site-packages/tensorflow/python/framework/dtypes.py:516: FutureWarning: Passing (type, 1) or '1type' as a synonym of type is deprecated; in a future version of numpy, it will be understood as (type, (1,)) / '(1,)type'.\n",
      "  _np_qint8 = np.dtype([(\"qint8\", np.int8, 1)])\n",
      "/opt/conda/lib/python3.6/site-packages/tensorflow/python/framework/dtypes.py:517: FutureWarning: Passing (type, 1) or '1type' as a synonym of type is deprecated; in a future version of numpy, it will be understood as (type, (1,)) / '(1,)type'.\n",
      "  _np_quint8 = np.dtype([(\"quint8\", np.uint8, 1)])\n",
      "/opt/conda/lib/python3.6/site-packages/tensorflow/python/framework/dtypes.py:518: FutureWarning: Passing (type, 1) or '1type' as a synonym of type is deprecated; in a future version of numpy, it will be understood as (type, (1,)) / '(1,)type'.\n",
      "  _np_qint16 = np.dtype([(\"qint16\", np.int16, 1)])\n",
      "/opt/conda/lib/python3.6/site-packages/tensorflow/python/framework/dtypes.py:519: FutureWarning: Passing (type, 1) or '1type' as a synonym of type is deprecated; in a future version of numpy, it will be understood as (type, (1,)) / '(1,)type'.\n",
      "  _np_quint16 = np.dtype([(\"quint16\", np.uint16, 1)])\n",
      "/opt/conda/lib/python3.6/site-packages/tensorflow/python/framework/dtypes.py:520: FutureWarning: Passing (type, 1) or '1type' as a synonym of type is deprecated; in a future version of numpy, it will be understood as (type, (1,)) / '(1,)type'.\n",
      "  _np_qint32 = np.dtype([(\"qint32\", np.int32, 1)])\n",
      "/opt/conda/lib/python3.6/site-packages/tensorflow/python/framework/dtypes.py:525: FutureWarning: Passing (type, 1) or '1type' as a synonym of type is deprecated; in a future version of numpy, it will be understood as (type, (1,)) / '(1,)type'.\n",
      "  np_resource = np.dtype([(\"resource\", np.ubyte, 1)])\n",
      "/opt/conda/lib/python3.6/site-packages/tensorboard/compat/tensorflow_stub/dtypes.py:541: FutureWarning: Passing (type, 1) or '1type' as a synonym of type is deprecated; in a future version of numpy, it will be understood as (type, (1,)) / '(1,)type'.\n",
      "  _np_qint8 = np.dtype([(\"qint8\", np.int8, 1)])\n",
      "/opt/conda/lib/python3.6/site-packages/tensorboard/compat/tensorflow_stub/dtypes.py:542: FutureWarning: Passing (type, 1) or '1type' as a synonym of type is deprecated; in a future version of numpy, it will be understood as (type, (1,)) / '(1,)type'.\n",
      "  _np_quint8 = np.dtype([(\"quint8\", np.uint8, 1)])\n",
      "/opt/conda/lib/python3.6/site-packages/tensorboard/compat/tensorflow_stub/dtypes.py:543: FutureWarning: Passing (type, 1) or '1type' as a synonym of type is deprecated; in a future version of numpy, it will be understood as (type, (1,)) / '(1,)type'.\n",
      "  _np_qint16 = np.dtype([(\"qint16\", np.int16, 1)])\n",
      "/opt/conda/lib/python3.6/site-packages/tensorboard/compat/tensorflow_stub/dtypes.py:544: FutureWarning: Passing (type, 1) or '1type' as a synonym of type is deprecated; in a future version of numpy, it will be understood as (type, (1,)) / '(1,)type'.\n",
      "  _np_quint16 = np.dtype([(\"quint16\", np.uint16, 1)])\n",
      "/opt/conda/lib/python3.6/site-packages/tensorboard/compat/tensorflow_stub/dtypes.py:545: FutureWarning: Passing (type, 1) or '1type' as a synonym of type is deprecated; in a future version of numpy, it will be understood as (type, (1,)) / '(1,)type'.\n",
      "  _np_qint32 = np.dtype([(\"qint32\", np.int32, 1)])\n",
      "/opt/conda/lib/python3.6/site-packages/tensorboard/compat/tensorflow_stub/dtypes.py:550: FutureWarning: Passing (type, 1) or '1type' as a synonym of type is deprecated; in a future version of numpy, it will be understood as (type, (1,)) / '(1,)type'.\n",
      "  np_resource = np.dtype([(\"resource\", np.ubyte, 1)])\n"
     ]
    }
   ],
   "source": [
    "!pip install git+https://github.com/netbrainml/nbml.git\n",
    "from nbml.pytorch import *\n",
    "from nbml.workshops.cifar100.utils import *"
   ]
  },
  {
   "cell_type": "code",
   "execution_count": 2,
   "metadata": {
    "_cell_guid": "79c7e3d0-c299-4dcb-8224-4455121ee9b0",
    "_uuid": "d629ff2d2480ee46fbb7e2d37f6b5fab8052498a"
   },
   "outputs": [
    {
     "name": "stdout",
     "output_type": "stream",
     "text": [
      "Downloading data from https://www.cs.toronto.edu/~kriz/cifar-100-python.tar.gz\n",
      "169009152/169001437 [==============================] - 11s 0us/step\n",
      "arg_0: (50000, 32, 32, 3)\n",
      "arg_1: (10000, 32, 32, 3)\n",
      "arg_2: (50000, 1)\n",
      "arg_3: (10000, 1)\n",
      "arg_0: torch.Size([50000, 3, 32, 32])\n",
      "arg_1: torch.Size([10000, 3, 32, 32])\n",
      "arg_2: torch.Size([50000])\n",
      "arg_3: torch.Size([10000])\n"
     ]
    }
   ],
   "source": [
    "x_train, x_test, y_train, y_test = getCIFAR100()\n",
    "tdl, vdl = torchCIFAR100(x_train, x_test, y_train, y_test, bs=128)"
   ]
  },
  {
   "cell_type": "code",
   "execution_count": 3,
   "metadata": {},
   "outputs": [],
   "source": [
    "import torch\n",
    "import torch.nn as nn\n",
    "import torch.nn.functional as F\n",
    "import torch.optim as optim\n",
    "from fastai.torch_core import Module\n",
    "\n",
    "def init_cnn(m, *layers):\n",
    "    if getattr(m, 'bias', None) is not None: nn.init.constant_(m.bias, 0)\n",
    "    if isinstance(m, (layers)): nn.init.kaiming_normal_(m.weight)\n",
    "    for l in m.children(): init_cnn(l)\n",
    "\n",
    "class Flatten(Module):\n",
    "    def __call__(self,x): return torch.flatten(x, start_dim=1)\n",
    "    \n",
    "def conv(ni,nf, ks=3, stride=1, pad=0):\n",
    "    return nn.Sequential(nn.Conv2d(ni, nf, ks, stride,pad),\n",
    "                         nn.ReLU(inplace=True))\n",
    "class ConvNet(BasicTrainableClassifier):\n",
    "    def __init__(self, ni, nc, init=False):\n",
    "        super().__init__()\n",
    "        self.model = nn.Sequential(conv(ni, 64, 3, 1),\n",
    "                                   conv(64, 128),\n",
    "                                   nn.MaxPool2d(2,2),\n",
    "                                   conv(128, 256),\n",
    "                                   nn.MaxPool2d(2,2),\n",
    "                                   conv(256, 512),\n",
    "                                   nn.AdaptiveMaxPool2d(1),\n",
    "                                   Flatten(),\n",
    "                                   nn.Linear(512, nc)\n",
    "                                  )\n",
    "        if init: init_cnn(self, nn.Conv2d, nn.Linear)\n",
    "    def forward(self,x): return self.model(x)"
   ]
  },
  {
   "cell_type": "code",
   "execution_count": 4,
   "metadata": {},
   "outputs": [],
   "source": [
    "noinit = ConvNet(3,100).cuda()\n",
    "init = ConvNet(3,100, init=True).cuda()"
   ]
  },
  {
   "cell_type": "code",
   "execution_count": 5,
   "metadata": {},
   "outputs": [
    {
     "name": "stderr",
     "output_type": "stream",
     "text": [
      "100% (391 of 391) |######################| Elapsed Time: 0:00:06 Time:  0:00:06\n",
      "100% (391 of 391) |######################| Elapsed Time: 0:00:02 Time:  0:00:02\n",
      "100% (79 of 79) |########################| Elapsed Time: 0:00:00 Time:  0:00:00\n"
     ]
    },
    {
     "name": "stdout",
     "output_type": "stream",
     "text": [
      "Epoch 1:\n",
      "\tTrain Loss: 3.452 | Train Acc: 17.53%\n",
      "\t Val. Loss: 3.490 |  Val. Acc: 16.86%\n"
     ]
    },
    {
     "name": "stderr",
     "output_type": "stream",
     "text": [
      "100% (391 of 391) |######################| Elapsed Time: 0:00:06 Time:  0:00:06\n",
      "100% (391 of 391) |######################| Elapsed Time: 0:00:02 Time:  0:00:02\n",
      "100% (79 of 79) |########################| Elapsed Time: 0:00:00 Time:  0:00:00\n"
     ]
    },
    {
     "name": "stdout",
     "output_type": "stream",
     "text": [
      "Epoch 2:\n",
      "\tTrain Loss: 2.948 | Train Acc: 27.62%\n",
      "\t Val. Loss: 3.037 |  Val. Acc: 26.58%\n"
     ]
    },
    {
     "name": "stderr",
     "output_type": "stream",
     "text": [
      "100% (391 of 391) |######################| Elapsed Time: 0:00:06 Time:  0:00:06\n",
      "100% (391 of 391) |######################| Elapsed Time: 0:00:02 Time:  0:00:02\n",
      "100% (79 of 79) |########################| Elapsed Time: 0:00:00 Time:  0:00:00\n"
     ]
    },
    {
     "name": "stdout",
     "output_type": "stream",
     "text": [
      "Epoch 3:\n",
      "\tTrain Loss: 2.617 | Train Acc: 34.37%\n",
      "\t Val. Loss: 2.796 |  Val. Acc: 31.60%\n"
     ]
    },
    {
     "name": "stderr",
     "output_type": "stream",
     "text": [
      "100% (391 of 391) |######################| Elapsed Time: 0:00:06 Time:  0:00:06\n",
      "100% (391 of 391) |######################| Elapsed Time: 0:00:02 Time:  0:00:02\n",
      "100% (79 of 79) |########################| Elapsed Time: 0:00:00 Time:  0:00:00\n"
     ]
    },
    {
     "name": "stdout",
     "output_type": "stream",
     "text": [
      "Epoch 4:\n",
      "\tTrain Loss: 2.417 | Train Acc: 38.37%\n",
      "\t Val. Loss: 2.696 |  Val. Acc: 33.46%\n"
     ]
    },
    {
     "name": "stderr",
     "output_type": "stream",
     "text": [
      "100% (391 of 391) |######################| Elapsed Time: 0:00:06 Time:  0:00:06\n",
      "100% (391 of 391) |######################| Elapsed Time: 0:00:02 Time:  0:00:02\n",
      "100% (79 of 79) |########################| Elapsed Time: 0:00:00 Time:  0:00:00\n"
     ]
    },
    {
     "name": "stdout",
     "output_type": "stream",
     "text": [
      "Epoch 5:\n",
      "\tTrain Loss: 2.144 | Train Acc: 44.25%\n",
      "\t Val. Loss: 2.516 |  Val. Acc: 37.08%\n"
     ]
    },
    {
     "name": "stderr",
     "output_type": "stream",
     "text": [
      "100% (391 of 391) |######################| Elapsed Time: 0:00:06 Time:  0:00:06\n",
      "100% (391 of 391) |######################| Elapsed Time: 0:00:02 Time:  0:00:02\n",
      "100% (79 of 79) |########################| Elapsed Time: 0:00:00 Time:  0:00:00\n"
     ]
    },
    {
     "name": "stdout",
     "output_type": "stream",
     "text": [
      "Epoch 6:\n",
      "\tTrain Loss: 1.990 | Train Acc: 47.95%\n",
      "\t Val. Loss: 2.486 |  Val. Acc: 38.14%\n"
     ]
    },
    {
     "name": "stderr",
     "output_type": "stream",
     "text": [
      "100% (391 of 391) |######################| Elapsed Time: 0:00:06 Time:  0:00:06\n",
      "100% (391 of 391) |######################| Elapsed Time: 0:00:02 Time:  0:00:02\n",
      "100% (79 of 79) |########################| Elapsed Time: 0:00:00 Time:  0:00:00\n"
     ]
    },
    {
     "name": "stdout",
     "output_type": "stream",
     "text": [
      "Epoch 7:\n",
      "\tTrain Loss: 1.774 | Train Acc: 53.00%\n",
      "\t Val. Loss: 2.382 |  Val. Acc: 40.92%\n"
     ]
    },
    {
     "name": "stderr",
     "output_type": "stream",
     "text": [
      "100% (391 of 391) |######################| Elapsed Time: 0:00:06 Time:  0:00:06\n",
      "100% (391 of 391) |######################| Elapsed Time: 0:00:02 Time:  0:00:02\n",
      "100% (79 of 79) |########################| Elapsed Time: 0:00:00 Time:  0:00:00\n"
     ]
    },
    {
     "name": "stdout",
     "output_type": "stream",
     "text": [
      "Epoch 8:\n",
      "\tTrain Loss: 1.624 | Train Acc: 56.31%\n",
      "\t Val. Loss: 2.369 |  Val. Acc: 40.76%\n"
     ]
    },
    {
     "name": "stderr",
     "output_type": "stream",
     "text": [
      "100% (391 of 391) |######################| Elapsed Time: 0:00:06 Time:  0:00:06\n",
      "100% (391 of 391) |######################| Elapsed Time: 0:00:02 Time:  0:00:02\n",
      "100% (79 of 79) |########################| Elapsed Time: 0:00:00 Time:  0:00:00\n"
     ]
    },
    {
     "name": "stdout",
     "output_type": "stream",
     "text": [
      "Epoch 9:\n",
      "\tTrain Loss: 1.493 | Train Acc: 59.70%\n",
      "\t Val. Loss: 2.355 |  Val. Acc: 42.05%\n"
     ]
    },
    {
     "name": "stderr",
     "output_type": "stream",
     "text": [
      "100% (391 of 391) |######################| Elapsed Time: 0:00:06 Time:  0:00:06\n",
      "100% (391 of 391) |######################| Elapsed Time: 0:00:02 Time:  0:00:02\n",
      "100% (79 of 79) |########################| Elapsed Time: 0:00:00 Time:  0:00:00\n"
     ]
    },
    {
     "name": "stdout",
     "output_type": "stream",
     "text": [
      "Epoch 10:\n",
      "\tTrain Loss: 1.331 | Train Acc: 64.05%\n",
      "\t Val. Loss: 2.345 |  Val. Acc: 42.51%\n"
     ]
    }
   ],
   "source": [
    "noinit.fit(tdl, vdl, cbs=True, epochs=10)"
   ]
  },
  {
   "cell_type": "code",
   "execution_count": 6,
   "metadata": {},
   "outputs": [
    {
     "ename": "NameError",
     "evalue": "name 'init_m' is not defined",
     "output_type": "error",
     "traceback": [
      "\u001b[0;31m---------------------------------------------------------------------------\u001b[0m",
      "\u001b[0;31mNameError\u001b[0m                                 Traceback (most recent call last)",
      "\u001b[0;32m<ipython-input-6-a731078f2fee>\u001b[0m in \u001b[0;36m<module>\u001b[0;34m\u001b[0m\n\u001b[0;32m----> 1\u001b[0;31m \u001b[0minit_m\u001b[0m\u001b[0;34m.\u001b[0m\u001b[0mfit\u001b[0m\u001b[0;34m(\u001b[0m\u001b[0mtdl\u001b[0m\u001b[0;34m,\u001b[0m \u001b[0mvdl\u001b[0m\u001b[0;34m,\u001b[0m \u001b[0mcbs\u001b[0m\u001b[0;34m=\u001b[0m\u001b[0;32mTrue\u001b[0m\u001b[0;34m,\u001b[0m \u001b[0mepochs\u001b[0m\u001b[0;34m=\u001b[0m\u001b[0;36m10\u001b[0m\u001b[0;34m)\u001b[0m\u001b[0;34m\u001b[0m\u001b[0m\n\u001b[0m",
      "\u001b[0;31mNameError\u001b[0m: name 'init_m' is not defined"
     ]
    }
   ],
   "source": [
    "init_m.fit(tdl, vdl, cbs=True, epochs=10)"
   ]
  },
  {
   "cell_type": "code",
   "execution_count": 7,
   "metadata": {},
   "outputs": [
    {
     "data": {
      "image/png": "[encoded data removed]",
      "text/plain": [
       "<Figure size 1200x600 with 2 Axes>"
      ]
     },
     "metadata": {
      "needs_background": "light"
     },
     "output_type": "display_data"
    },
    {
     "ename": "NameError",
     "evalue": "name 'init_m' is not defined",
     "output_type": "error",
     "traceback": [
      "\u001b[0;31m---------------------------------------------------------------------------\u001b[0m",
      "\u001b[0;31mNameError\u001b[0m                                 Traceback (most recent call last)",
      "\u001b[0;32m<ipython-input-7-a7eb32399943>\u001b[0m in \u001b[0;36m<module>\u001b[0;34m\u001b[0m\n\u001b[1;32m      1\u001b[0m \u001b[0mnoinit\u001b[0m\u001b[0;34m.\u001b[0m\u001b[0mplot\u001b[0m\u001b[0;34m\u001b[0m\u001b[0m\n\u001b[0;32m----> 2\u001b[0;31m \u001b[0minit_m\u001b[0m\u001b[0;34m.\u001b[0m\u001b[0mplot\u001b[0m\u001b[0;34m\u001b[0m\u001b[0m\n\u001b[0m",
      "\u001b[0;31mNameError\u001b[0m: name 'init_m' is not defined"
     ]
    }
   ],
   "source": [
    "noinit.plot\n",
    "init_m.plot"
   ]
  },
  {
   "cell_type": "code",
   "execution_count": null,
   "metadata": {},
   "outputs": [],
   "source": []
  }
 ],
 "metadata": {
  "kernelspec": {
   "display_name": "Python 3",
   "language": "python",
   "name": "python3"
  },
  "language_info": {
   "codemirror_mode": {
    "name": "ipython",
    "version": 3
   },
   "file_extension": ".py",
   "mimetype": "text/x-python",
   "name": "python",
   "nbconvert_exporter": "python",
   "pygments_lexer": "ipython3",
   "version": "3.6.6"
  }
 },
 "nbformat": 4,
 "nbformat_minor": 1
}
